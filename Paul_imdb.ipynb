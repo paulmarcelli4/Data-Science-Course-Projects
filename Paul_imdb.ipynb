{
 "cells": [
  {
   "cell_type": "markdown",
   "metadata": {},
   "source": [
    "<img src=\"http://imgur.com/1ZcRyrc.png\" style=\"float: left; margin: 20px; height: 55px\">\n",
    "\n",
    "# Project 2: Analyzing IMDb Data\n",
    "\n",
    "_Author: Kevin Markham (DC)_\n",
    "\n",
    "---"
   ]
  },
  {
   "cell_type": "markdown",
   "metadata": {},
   "source": [
    "For project two, you will complete a serious of exercises exploring movie rating data from IMDb.\n",
    "\n",
    "For these exercises, you will be conducting basic exploratory data analysis on IMDB's movie data, looking to answer such questions as:\n",
    "\n",
    "What is the average rating per genre?\n",
    "How many different actors are in a movie?\n",
    "\n",
    "This process will help you practice your data analysis skills while becoming comfortable with Pandas."
   ]
  },
  {
   "cell_type": "markdown",
   "metadata": {},
   "source": [
    "## Basic level"
   ]
  },
  {
   "cell_type": "code",
   "execution_count": 1,
   "metadata": {},
   "outputs": [],
   "source": [
    "import pandas as pd\n",
    "import matplotlib.pyplot as plt\n",
    "%matplotlib inline"
   ]
  },
  {
   "cell_type": "markdown",
   "metadata": {},
   "source": [
    "#### Read in 'imdb_1000.csv' and store it in a DataFrame named movies."
   ]
  },
  {
   "cell_type": "code",
   "execution_count": 2,
   "metadata": {},
   "outputs": [
    {
     "data": {
      "text/html": [
       "<div>\n",
       "<style scoped>\n",
       "    .dataframe tbody tr th:only-of-type {\n",
       "        vertical-align: middle;\n",
       "    }\n",
       "\n",
       "    .dataframe tbody tr th {\n",
       "        vertical-align: top;\n",
       "    }\n",
       "\n",
       "    .dataframe thead th {\n",
       "        text-align: right;\n",
       "    }\n",
       "</style>\n",
       "<table border=\"1\" class=\"dataframe\">\n",
       "  <thead>\n",
       "    <tr style=\"text-align: right;\">\n",
       "      <th></th>\n",
       "      <th>star_rating</th>\n",
       "      <th>title</th>\n",
       "      <th>content_rating</th>\n",
       "      <th>genre</th>\n",
       "      <th>duration</th>\n",
       "      <th>actors_list</th>\n",
       "    </tr>\n",
       "  </thead>\n",
       "  <tbody>\n",
       "    <tr>\n",
       "      <th>0</th>\n",
       "      <td>9.3</td>\n",
       "      <td>The Shawshank Redemption</td>\n",
       "      <td>R</td>\n",
       "      <td>Crime</td>\n",
       "      <td>142</td>\n",
       "      <td>[u'Tim Robbins', u'Morgan Freeman', u'Bob Gunt...</td>\n",
       "    </tr>\n",
       "    <tr>\n",
       "      <th>1</th>\n",
       "      <td>9.2</td>\n",
       "      <td>The Godfather</td>\n",
       "      <td>R</td>\n",
       "      <td>Crime</td>\n",
       "      <td>175</td>\n",
       "      <td>[u'Marlon Brando', u'Al Pacino', u'James Caan']</td>\n",
       "    </tr>\n",
       "    <tr>\n",
       "      <th>2</th>\n",
       "      <td>9.1</td>\n",
       "      <td>The Godfather: Part II</td>\n",
       "      <td>R</td>\n",
       "      <td>Crime</td>\n",
       "      <td>200</td>\n",
       "      <td>[u'Al Pacino', u'Robert De Niro', u'Robert Duv...</td>\n",
       "    </tr>\n",
       "    <tr>\n",
       "      <th>3</th>\n",
       "      <td>9.0</td>\n",
       "      <td>The Dark Knight</td>\n",
       "      <td>PG-13</td>\n",
       "      <td>Action</td>\n",
       "      <td>152</td>\n",
       "      <td>[u'Christian Bale', u'Heath Ledger', u'Aaron E...</td>\n",
       "    </tr>\n",
       "    <tr>\n",
       "      <th>4</th>\n",
       "      <td>8.9</td>\n",
       "      <td>Pulp Fiction</td>\n",
       "      <td>R</td>\n",
       "      <td>Crime</td>\n",
       "      <td>154</td>\n",
       "      <td>[u'John Travolta', u'Uma Thurman', u'Samuel L....</td>\n",
       "    </tr>\n",
       "  </tbody>\n",
       "</table>\n",
       "</div>"
      ],
      "text/plain": [
       "   star_rating                     title content_rating   genre  duration  \\\n",
       "0          9.3  The Shawshank Redemption              R   Crime       142   \n",
       "1          9.2             The Godfather              R   Crime       175   \n",
       "2          9.1    The Godfather: Part II              R   Crime       200   \n",
       "3          9.0           The Dark Knight          PG-13  Action       152   \n",
       "4          8.9              Pulp Fiction              R   Crime       154   \n",
       "\n",
       "                                         actors_list  \n",
       "0  [u'Tim Robbins', u'Morgan Freeman', u'Bob Gunt...  \n",
       "1    [u'Marlon Brando', u'Al Pacino', u'James Caan']  \n",
       "2  [u'Al Pacino', u'Robert De Niro', u'Robert Duv...  \n",
       "3  [u'Christian Bale', u'Heath Ledger', u'Aaron E...  \n",
       "4  [u'John Travolta', u'Uma Thurman', u'Samuel L....  "
      ]
     },
     "execution_count": 2,
     "metadata": {},
     "output_type": "execute_result"
    }
   ],
   "source": [
    "movies = pd.read_csv('./data/imdb_1000.csv')\n",
    "# Shows the header of our data frame\n",
    "movies.head()"
   ]
  },
  {
   "cell_type": "markdown",
   "metadata": {},
   "source": [
    "#### Check the number of rows and columns."
   ]
  },
  {
   "cell_type": "code",
   "execution_count": 3,
   "metadata": {},
   "outputs": [
    {
     "data": {
      "text/plain": [
       "(979, 6)"
      ]
     },
     "execution_count": 3,
     "metadata": {},
     "output_type": "execute_result"
    }
   ],
   "source": [
    "# Answer:\n",
    "# Shows number of rows and columns\n",
    "movies.shape"
   ]
  },
  {
   "cell_type": "markdown",
   "metadata": {},
   "source": [
    "#### Check the data type of each column."
   ]
  },
  {
   "cell_type": "code",
   "execution_count": 4,
   "metadata": {},
   "outputs": [
    {
     "data": {
      "text/plain": [
       "star_rating       float64\n",
       "title              object\n",
       "content_rating     object\n",
       "genre              object\n",
       "duration            int64\n",
       "actors_list        object\n",
       "dtype: object"
      ]
     },
     "execution_count": 4,
     "metadata": {},
     "output_type": "execute_result"
    }
   ],
   "source": [
    "# Shows the data type of each column\n",
    "movies.dtypes"
   ]
  },
  {
   "cell_type": "markdown",
   "metadata": {},
   "source": [
    "#### Calculate the average movie duration."
   ]
  },
  {
   "cell_type": "code",
   "execution_count": 5,
   "metadata": {},
   "outputs": [
    {
     "data": {
      "text/plain": [
       "120.97957099080695"
      ]
     },
     "execution_count": 5,
     "metadata": {},
     "output_type": "execute_result"
    }
   ],
   "source": [
    "# Answer:\n",
    "# Shows average movie duration of our data frame\n",
    "movies['duration'].mean()"
   ]
  },
  {
   "cell_type": "markdown",
   "metadata": {},
   "source": [
    "#### Sort the DataFrame by duration to find the shortest and longest movies."
   ]
  },
  {
   "cell_type": "code",
   "execution_count": 6,
   "metadata": {},
   "outputs": [
    {
     "name": "stdout",
     "output_type": "stream",
     "text": [
      "     star_rating   title content_rating  genre  duration  \\\n",
      "476          7.8  Hamlet          PG-13  Drama       242   \n",
      "\n",
      "                                           actors_list  \n",
      "476  [u'Kenneth Branagh', u'Julie Christie', u'Dere...  \n",
      "     star_rating   title content_rating  genre  duration  \\\n",
      "389          8.0  Freaks        UNRATED  Drama        64   \n",
      "\n",
      "                                           actors_list  \n",
      "389  [u'Wallace Ford', u'Leila Hyams', u'Olga Bacla...  \n"
     ]
    }
   ],
   "source": [
    "# Answer:\n",
    "# Sorts our movies by duration, then we choose the top one by just asking for\n",
    "# head(1). Then, use that same list but ask for the last one with tail(1)\n",
    "longest = movies.sort_values(by='duration', ascending=False).head(1)\n",
    "shortest =movies.sort_values(by='duration', ascending=False).tail(1)\n",
    "print(longest)\n",
    "print(shortest)"
   ]
  },
  {
   "cell_type": "markdown",
   "metadata": {},
   "source": [
    "#### Create a histogram of duration, choosing an \"appropriate\" number of bins."
   ]
  },
  {
   "cell_type": "code",
   "execution_count": 7,
   "metadata": {},
   "outputs": [
    {
     "data": {
      "text/plain": [
       "Text(0.5, 1.0, 'Number of Movies by Duration')"
      ]
     },
     "execution_count": 7,
     "metadata": {},
     "output_type": "execute_result"
    },
    {
     "data": {
      "image/png": "[encoded data removed]",
      "text/plain": [
       "<Figure size 640x480 with 1 Axes>"
      ]
     },
     "metadata": {},
     "output_type": "display_data"
    }
   ],
   "source": [
    "# Answer:\n",
    "# We plot a histogram, with an x and y axis\n",
    "# X: duration of movie\n",
    "# Y: Sum of movies for each bin\n",
    "plt.hist(movies['duration'], bins=10)\n",
    "plt.xlabel('Duration of Movie')\n",
    "plt.ylabel('Sum of Movies')\n",
    "plt.title('Number of Movies by Duration')"
   ]
  },
  {
   "cell_type": "markdown",
   "metadata": {},
   "source": [
    "#### Use a box plot to display that same data."
   ]
  },
  {
   "cell_type": "code",
   "execution_count": 8,
   "metadata": {},
   "outputs": [
    {
     "data": {
      "text/plain": [
       "{'whiskers': [<matplotlib.lines.Line2D at 0x22c000831d0>,\n",
       "  <matplotlib.lines.Line2D at 0x22c002c3d50>],\n",
       " 'caps': [<matplotlib.lines.Line2D at 0x22c002cc910>,\n",
       "  <matplotlib.lines.Line2D at 0x22c002cd410>],\n",
       " 'boxes': [<matplotlib.lines.Line2D at 0x22c002c2350>],\n",
       " 'medians': [<matplotlib.lines.Line2D at 0x22c002cdf10>],\n",
       " 'fliers': [<matplotlib.lines.Line2D at 0x22c000672d0>],\n",
       " 'means': []}"
      ]
     },
     "execution_count": 8,
     "metadata": {},
     "output_type": "execute_result"
    },
    {
     "data": {
      "image/png": "[encoded data removed]",
      "text/plain": [
       "<Figure size 640x480 with 1 Axes>"
      ]
     },
     "metadata": {},
     "output_type": "display_data"
    }
   ],
   "source": [
    "# Answer:\n",
    "# Plot a boxplot of movies by duration\n",
    "plt.boxplot(movies['duration'])"
   ]
  },
  {
   "cell_type": "markdown",
   "metadata": {},
   "source": [
    "## Intermediate level"
   ]
  },
  {
   "cell_type": "markdown",
   "metadata": {},
   "source": [
    "#### Count how many movies have each of the content ratings."
   ]
  },
  {
   "cell_type": "code",
   "execution_count": 9,
   "metadata": {},
   "outputs": [
    {
     "data": {
      "text/plain": [
       "content_rating\n",
       "R            460\n",
       "PG-13        189\n",
       "PG           123\n",
       "NOT RATED     65\n",
       "APPROVED      47\n",
       "UNRATED       38\n",
       "G             32\n",
       "PASSED         7\n",
       "NC-17          7\n",
       "X              4\n",
       "GP             3\n",
       "TV-MA          1\n",
       "Name: count, dtype: int64"
      ]
     },
     "execution_count": 9,
     "metadata": {},
     "output_type": "execute_result"
    }
   ],
   "source": [
    "# Answer:\n",
    "# Get number of movies by content rating\n",
    "movies['content_rating'].value_counts()"
   ]
  },
  {
   "cell_type": "markdown",
   "metadata": {},
   "source": [
    "#### Use a visualization to display that same data, including a title and x and y labels."
   ]
  },
  {
   "cell_type": "code",
   "execution_count": 10,
   "metadata": {
    "scrolled": false
   },
   "outputs": [
    {
     "data": {
      "text/plain": [
       "Text(0.5, 1.0, 'Number of Movies by Content Rating')"
      ]
     },
     "execution_count": 10,
     "metadata": {},
     "output_type": "execute_result"
    },
    {
     "data": {
      "image/png": "[encoded data removed]",
      "text/plain": [
       "<Figure size 640x480 with 1 Axes>"
      ]
     },
     "metadata": {},
     "output_type": "display_data"
    }
   ],
   "source": [
    "# Answer:\n",
    "# Make a bar chart for number of movies by content rating\n",
    "ratings_chart = movies['content_rating'].value_counts()\n",
    "ratings_chart.plot(kind='bar')\n",
    "plt.xlabel('Content Rating')\n",
    "plt.ylabel('Sum of Movies')\n",
    "plt.title('Number of Movies by Content Rating')"
   ]
  },
  {
   "cell_type": "markdown",
   "metadata": {},
   "source": [
    "#### Convert the following content ratings to \"UNRATED\": NOT RATED, APPROVED, PASSED, GP."
   ]
  },
  {
   "cell_type": "code",
   "execution_count": 11,
   "metadata": {},
   "outputs": [
    {
     "data": {
      "text/plain": [
       "content_rating\n",
       "R            460\n",
       "PG-13        189\n",
       "PG           123\n",
       "NOT RATED     65\n",
       "APPROVED      47\n",
       "UNRATED       38\n",
       "G             32\n",
       "PASSED         7\n",
       "NC-17          7\n",
       "X              4\n",
       "GP             3\n",
       "TV-MA          1\n",
       "Name: count, dtype: int64"
      ]
     },
     "execution_count": 11,
     "metadata": {},
     "output_type": "execute_result"
    }
   ],
   "source": [
    "# Just check how many of each movie by content rating we have\n",
    "movies['content_rating'].value_counts()"
   ]
  },
  {
   "cell_type": "code",
   "execution_count": 12,
   "metadata": {},
   "outputs": [
    {
     "data": {
      "text/plain": [
       "content_rating\n",
       "R          460\n",
       "PG-13      189\n",
       "UNRATED    160\n",
       "PG         123\n",
       "G           32\n",
       "NC-17        7\n",
       "X            4\n",
       "TV-MA        1\n",
       "Name: count, dtype: int64"
      ]
     },
     "execution_count": 12,
     "metadata": {},
     "output_type": "execute_result"
    }
   ],
   "source": [
    "# Answer:\n",
    "# We replace each of those values with in the data frame \"UNRATED\"\n",
    "movies = movies.replace(to_replace=[\"NOT RATED\", \"APPROVED\", \"PASSED\", \"GP\"], value=\"UNRATED\")\n",
    "movies['content_rating'].value_counts()"
   ]
  },
  {
   "cell_type": "markdown",
   "metadata": {},
   "source": [
    "#### Convert the following content ratings to \"NC-17\": X, TV-MA."
   ]
  },
  {
   "cell_type": "code",
   "execution_count": 13,
   "metadata": {},
   "outputs": [
    {
     "data": {
      "text/plain": [
       "content_rating\n",
       "R          460\n",
       "PG-13      189\n",
       "UNRATED    160\n",
       "PG         123\n",
       "G           32\n",
       "NC-17       12\n",
       "Name: count, dtype: int64"
      ]
     },
     "execution_count": 13,
     "metadata": {},
     "output_type": "execute_result"
    }
   ],
   "source": [
    "# Answer:\n",
    "# Do the same thing here, but now with replacing values with NC-17\n",
    "movies = movies.replace(to_replace=[\"X\", \"TV-MA\"], value=\"NC-17\")\n",
    "movies['content_rating'].value_counts()"
   ]
  },
  {
   "cell_type": "markdown",
   "metadata": {},
   "source": [
    "#### Count the number of missing values in each column."
   ]
  },
  {
   "cell_type": "code",
   "execution_count": 14,
   "metadata": {},
   "outputs": [
    {
     "data": {
      "text/plain": [
       "star_rating       0\n",
       "title             0\n",
       "content_rating    3\n",
       "genre             0\n",
       "duration          0\n",
       "actors_list       0\n",
       "dtype: int64"
      ]
     },
     "execution_count": 14,
     "metadata": {},
     "output_type": "execute_result"
    }
   ],
   "source": [
    "# Answer:\n",
    "# This will sum all the missing values in each column\n",
    "movies.isnull().sum()"
   ]
  },
  {
   "cell_type": "markdown",
   "metadata": {},
   "source": [
    "#### If there are missing values: examine them, then fill them in with \"reasonable\" values."
   ]
  },
  {
   "cell_type": "code",
   "execution_count": 15,
   "metadata": {},
   "outputs": [],
   "source": [
    "# Answer:\n",
    "# This will find the null values, and fill them in with \"NOT RATED\"\n",
    "movies = movies.fillna(\"NOT RATED\")"
   ]
  },
  {
   "cell_type": "markdown",
   "metadata": {},
   "source": [
    "#### Calculate the average star rating for movies 2 hours or longer, and compare that with the average star rating for movies shorter than 2 hours."
   ]
  },
  {
   "cell_type": "code",
   "execution_count": 16,
   "metadata": {},
   "outputs": [
    {
     "name": "stdout",
     "output_type": "stream",
     "text": [
      " Average star rating for movies longer than 2 hours: 7.948898678414097, vs. Average star rating of movies less than 2 hours: 7.838666666666665\n"
     ]
    }
   ],
   "source": [
    "# Answer:\n",
    "# This looks in the movies data frame, in the duration column, but only \n",
    "# the datapoints equal to or greater than 120, then gets the mean of star \n",
    "# rating \n",
    "Hours_2 = movies[movies['duration'] >= 120]['star_rating'].mean()\n",
    "\n",
    "# Do the same thing, but only for data points below 120\n",
    "Hours_less_than_2 = movies[movies['duration'] < 120]['star_rating'].mean()\n",
    "print(f' Average star rating for movies longer than 2 hours: {Hours_2}, vs. Average star rating of movies less than 2 hours: {Hours_less_than_2}')"
   ]
  },
  {
   "cell_type": "markdown",
   "metadata": {},
   "source": [
    "#### Use a visualization to detect whether there is a relationship between duration and star rating."
   ]
  },
  {
   "cell_type": "code",
   "execution_count": 17,
   "metadata": {},
   "outputs": [
    {
     "data": {
      "image/png": "[encoded data removed]",
      "text/plain": [
       "<Figure size 640x480 with 1 Axes>"
      ]
     },
     "metadata": {},
     "output_type": "display_data"
    }
   ],
   "source": [
    "# Answer:\n",
    "\n",
    "# Plots a scatterplot with duration as our x axis and star rating as our \n",
    "# y axis\n",
    "plt.scatter(movies['duration'], movies['star_rating'])\n",
    "plt.xlabel('Duration of Movie')\n",
    "plt.ylabel('Star Rating')\n",
    "plt.title('Star Rating of Movie vs. Duration of Movie')\n",
    "plt.show()"
   ]
  },
  {
   "cell_type": "markdown",
   "metadata": {},
   "source": [
    "#### Calculate the average duration for each genre."
   ]
  },
  {
   "cell_type": "code",
   "execution_count": 18,
   "metadata": {},
   "outputs": [
    {
     "name": "stdout",
     "output_type": "stream",
     "text": [
      "Average duration for each genre: genre\n",
      "Action       126.485294\n",
      "Adventure    134.840000\n",
      "Animation     96.596774\n",
      "Biography    131.844156\n",
      "Comedy       107.602564\n",
      "Crime        122.298387\n",
      "Drama        126.539568\n",
      "Family       107.500000\n",
      "Fantasy      112.000000\n",
      "Film-Noir     97.333333\n",
      "History       66.000000\n",
      "Horror       102.517241\n",
      "Mystery      115.625000\n",
      "Sci-Fi       109.000000\n",
      "Thriller     114.200000\n",
      "Western      136.666667\n",
      "Name: duration, dtype: float64\n"
     ]
    }
   ],
   "source": [
    "# Answer:\n",
    "# This groups our data by genre, then calculates the mean within that group\n",
    "answer = movies.groupby('genre')['duration'].mean()\n",
    "print(f'Average duration for each genre: {answer}')"
   ]
  },
  {
   "cell_type": "markdown",
   "metadata": {},
   "source": [
    "## Advanced level"
   ]
  },
  {
   "cell_type": "markdown",
   "metadata": {},
   "source": [
    "#### Visualize the relationship between content rating and duration."
   ]
  },
  {
   "cell_type": "code",
   "execution_count": 19,
   "metadata": {},
   "outputs": [
    {
     "data": {
      "image/png": "[encoded data removed]",
      "text/plain": [
       "<Figure size 640x480 with 1 Axes>"
      ]
     },
     "metadata": {},
     "output_type": "display_data"
    }
   ],
   "source": [
    "# Ask what they're looking for here: do they want average duration for each content rating?\n",
    "# Answer:\n",
    "\n",
    "# First, we groupby content rating, then get the average duration of those groups\n",
    "movies_dur = movies.groupby('content_rating')['duration'].mean()\n",
    "\n",
    "# Next, we plot it as a bar graph, with content rating for our x axis and \n",
    "# averge duration as our y axis\n",
    "movies_dur.plot(kind='bar')\n",
    "plt.xlabel('Content Rating')\n",
    "plt.ylabel('Average Duration')\n",
    "plt.title('Average Duration of Movies Across Content Ratings')\n",
    "plt.show()"
   ]
  },
  {
   "cell_type": "markdown",
   "metadata": {},
   "source": [
    "#### Determine the top rated movie (by star rating) for each genre."
   ]
  },
  {
   "cell_type": "code",
   "execution_count": 20,
   "metadata": {},
   "outputs": [
    {
     "data": {
      "text/html": [
       "<div>\n",
       "<style scoped>\n",
       "    .dataframe tbody tr th:only-of-type {\n",
       "        vertical-align: middle;\n",
       "    }\n",
       "\n",
       "    .dataframe tbody tr th {\n",
       "        vertical-align: top;\n",
       "    }\n",
       "\n",
       "    .dataframe thead th {\n",
       "        text-align: right;\n",
       "    }\n",
       "</style>\n",
       "<table border=\"1\" class=\"dataframe\">\n",
       "  <thead>\n",
       "    <tr style=\"text-align: right;\">\n",
       "      <th></th>\n",
       "      <th>title</th>\n",
       "      <th>genre</th>\n",
       "      <th>star_rating</th>\n",
       "    </tr>\n",
       "  </thead>\n",
       "  <tbody>\n",
       "    <tr>\n",
       "      <th>0</th>\n",
       "      <td>The Shawshank Redemption</td>\n",
       "      <td>Crime</td>\n",
       "      <td>9.3</td>\n",
       "    </tr>\n",
       "    <tr>\n",
       "      <th>3</th>\n",
       "      <td>The Dark Knight</td>\n",
       "      <td>Action</td>\n",
       "      <td>9.0</td>\n",
       "    </tr>\n",
       "    <tr>\n",
       "      <th>5</th>\n",
       "      <td>12 Angry Men</td>\n",
       "      <td>Drama</td>\n",
       "      <td>8.9</td>\n",
       "    </tr>\n",
       "    <tr>\n",
       "      <th>6</th>\n",
       "      <td>The Good, the Bad and the Ugly</td>\n",
       "      <td>Western</td>\n",
       "      <td>8.9</td>\n",
       "    </tr>\n",
       "    <tr>\n",
       "      <th>7</th>\n",
       "      <td>The Lord of the Rings: The Return of the King</td>\n",
       "      <td>Adventure</td>\n",
       "      <td>8.9</td>\n",
       "    </tr>\n",
       "    <tr>\n",
       "      <th>8</th>\n",
       "      <td>Schindler's List</td>\n",
       "      <td>Biography</td>\n",
       "      <td>8.9</td>\n",
       "    </tr>\n",
       "    <tr>\n",
       "      <th>39</th>\n",
       "      <td>Psycho</td>\n",
       "      <td>Horror</td>\n",
       "      <td>8.6</td>\n",
       "    </tr>\n",
       "    <tr>\n",
       "      <th>38</th>\n",
       "      <td>Rear Window</td>\n",
       "      <td>Mystery</td>\n",
       "      <td>8.6</td>\n",
       "    </tr>\n",
       "    <tr>\n",
       "      <th>35</th>\n",
       "      <td>Modern Times</td>\n",
       "      <td>Comedy</td>\n",
       "      <td>8.6</td>\n",
       "    </tr>\n",
       "    <tr>\n",
       "      <th>30</th>\n",
       "      <td>Spirited Away</td>\n",
       "      <td>Animation</td>\n",
       "      <td>8.6</td>\n",
       "    </tr>\n",
       "    <tr>\n",
       "      <th>105</th>\n",
       "      <td>The Third Man</td>\n",
       "      <td>Film-Noir</td>\n",
       "      <td>8.3</td>\n",
       "    </tr>\n",
       "    <tr>\n",
       "      <th>145</th>\n",
       "      <td>Blade Runner</td>\n",
       "      <td>Sci-Fi</td>\n",
       "      <td>8.2</td>\n",
       "    </tr>\n",
       "    <tr>\n",
       "      <th>350</th>\n",
       "      <td>Shadow of a Doubt</td>\n",
       "      <td>Thriller</td>\n",
       "      <td>8.0</td>\n",
       "    </tr>\n",
       "    <tr>\n",
       "      <th>338</th>\n",
       "      <td>Battleship Potemkin</td>\n",
       "      <td>History</td>\n",
       "      <td>8.0</td>\n",
       "    </tr>\n",
       "    <tr>\n",
       "      <th>468</th>\n",
       "      <td>E.T. the Extra-Terrestrial</td>\n",
       "      <td>Family</td>\n",
       "      <td>7.9</td>\n",
       "    </tr>\n",
       "    <tr>\n",
       "      <th>638</th>\n",
       "      <td>The City of Lost Children</td>\n",
       "      <td>Fantasy</td>\n",
       "      <td>7.7</td>\n",
       "    </tr>\n",
       "  </tbody>\n",
       "</table>\n",
       "</div>"
      ],
      "text/plain": [
       "                                             title      genre  star_rating\n",
       "0                         The Shawshank Redemption      Crime          9.3\n",
       "3                                  The Dark Knight     Action          9.0\n",
       "5                                     12 Angry Men      Drama          8.9\n",
       "6                   The Good, the Bad and the Ugly    Western          8.9\n",
       "7    The Lord of the Rings: The Return of the King  Adventure          8.9\n",
       "8                                 Schindler's List  Biography          8.9\n",
       "39                                          Psycho     Horror          8.6\n",
       "38                                     Rear Window    Mystery          8.6\n",
       "35                                    Modern Times     Comedy          8.6\n",
       "30                                   Spirited Away  Animation          8.6\n",
       "105                                  The Third Man  Film-Noir          8.3\n",
       "145                                   Blade Runner     Sci-Fi          8.2\n",
       "350                              Shadow of a Doubt   Thriller          8.0\n",
       "338                            Battleship Potemkin    History          8.0\n",
       "468                     E.T. the Extra-Terrestrial     Family          7.9\n",
       "638                      The City of Lost Children    Fantasy          7.7"
      ]
     },
     "execution_count": 20,
     "metadata": {},
     "output_type": "execute_result"
    }
   ],
   "source": [
    "# Answer:\n",
    "# Sort our dataframe by star rating\n",
    "top_star = movies.sort_values(by='star_rating', ascending=False)\n",
    "\n",
    "# Then, we group that sorted dataframe by genre, then ask to return the top one\n",
    "# with head(1), then output the title, genre, and star rating\n",
    "top_star.groupby('genre').head(1)[['title', 'genre', 'star_rating']]"
   ]
  },
  {
   "cell_type": "markdown",
   "metadata": {},
   "source": [
    "#### Check if there are multiple movies with the same title, and if so, determine if they are actually duplicates."
   ]
  },
  {
   "cell_type": "code",
   "execution_count": 21,
   "metadata": {},
   "outputs": [
    {
     "name": "stdout",
     "output_type": "stream",
     "text": [
      "4\n",
      "0\n"
     ]
    }
   ],
   "source": [
    "# Answer:\n",
    "# Check if there are duplicates within  the title column, and sum them\n",
    "same_title = movies.duplicated(['title']).sum()\n",
    "\n",
    "# Check if there are duplicates, but now across the entire dataframe, and sum it\n",
    "same_movie = movies.duplicated().sum()\n",
    "print(same_title)\n",
    "print(same_movie)\n",
    "\n",
    "# Since we have 4 title duplicates but 0 duplicates when we checked across all\n",
    "# columns, we can deduce they have the same title but are not the same movies\n",
    "# because if they were duplicate movies, they'd be the same across all columns\n",
    "# and we'd have more than 0 same_movie duplicates"
   ]
  },
  {
   "cell_type": "markdown",
   "metadata": {
    "collapsed": true
   },
   "source": [
    "#### Calculate the average star rating for each genre, but only include genres with at least 10 movies\n"
   ]
  },
  {
   "cell_type": "markdown",
   "metadata": {},
   "source": [
    "#### Option 1: manually create a list of relevant genres, then filter using that list"
   ]
  },
  {
   "cell_type": "code",
   "execution_count": 22,
   "metadata": {},
   "outputs": [
    {
     "name": "stdout",
     "output_type": "stream",
     "text": [
      "genre\n",
      "Drama        278\n",
      "Comedy       156\n",
      "Action       136\n",
      "Crime        124\n",
      "Biography     77\n",
      "Adventure     75\n",
      "Animation     62\n",
      "Horror        29\n",
      "Mystery       16\n",
      "Western        9\n",
      "Sci-Fi         5\n",
      "Thriller       5\n",
      "Film-Noir      3\n",
      "Family         2\n",
      "History        1\n",
      "Fantasy        1\n",
      "Name: count, dtype: int64\n",
      "***********************\n",
      "Our final answer is:\n",
      "genre\n",
      "Action       7.884559\n",
      "Adventure    7.933333\n",
      "Animation    7.914516\n",
      "Biography    7.862338\n",
      "Comedy       7.822436\n",
      "Crime        7.916935\n",
      "Drama        7.902518\n",
      "Horror       7.806897\n",
      "Mystery      7.975000\n",
      "Name: star_rating, dtype: float64\n"
     ]
    }
   ],
   "source": [
    "# Answer:\n",
    "# Check the sum of genres \n",
    "print(movies['genre'].value_counts())\n",
    "\n",
    "# Use that to make our list manually\n",
    "manual_list = ['Drama', 'Comedy', 'Action', 'Crime', 'Biography', 'Adventure', \n",
    "              'Animation', 'Horror', 'Mystery']\n",
    "# We'll filter our dataframe with the manual list we just made\n",
    "manual_filter = movies[movies['genre'].isin(manual_list)]\n",
    "\n",
    "# Lastly, we group our data by genre, then calculate the star rating mean\n",
    "manual_star = manual_filter.groupby('genre')['star_rating'].mean()\n",
    "print('***********************')\n",
    "print('Our final answer is:')\n",
    "print(manual_star)"
   ]
  },
  {
   "cell_type": "markdown",
   "metadata": {},
   "source": [
    "#### Option 2: automatically create a list of relevant genres by saving the value_counts and then filtering"
   ]
  },
  {
   "cell_type": "code",
   "execution_count": 23,
   "metadata": {},
   "outputs": [
    {
     "name": "stdout",
     "output_type": "stream",
     "text": [
      "genre\n",
      "Action       7.884559\n",
      "Adventure    7.933333\n",
      "Animation    7.914516\n",
      "Biography    7.862338\n",
      "Comedy       7.822436\n",
      "Crime        7.916935\n",
      "Drama        7.902518\n",
      "Horror       7.806897\n",
      "Mystery      7.975000\n",
      "Name: star_rating, dtype: float64\n"
     ]
    }
   ],
   "source": [
    "# Answer:\n",
    "# Get our genre sums\n",
    "movies_list = movies['genre'].value_counts()\n",
    "\n",
    "# Filter this to only include movie genres with 10 or more movies, \n",
    "# then use that filter to make a list with just those movies\n",
    "movies_filter = movies_list >= 10\n",
    "popular_genres = movies_list[movies_filter].index.tolist()\n",
    "\n",
    "# Now we make a data frame that only includes movies from that list\n",
    "filtered_movies = movies[movies['genre'].isin(popular_genres)]\n",
    "\n",
    "# Lastly, we use group by genres in that data frame and calculate the star \n",
    "# rating mean\n",
    "avg_star = filtered_movies.groupby('genre')['star_rating'].mean()\n",
    "print(avg_star)"
   ]
  },
  {
   "cell_type": "markdown",
   "metadata": {},
   "source": [
    "#### Option 3: calculate the average star rating for all genres, then filter using a boolean Series"
   ]
  },
  {
   "cell_type": "code",
   "execution_count": 24,
   "metadata": {},
   "outputs": [
    {
     "name": "stdout",
     "output_type": "stream",
     "text": [
      "genre\n",
      "Action       7.884559\n",
      "Adventure    7.933333\n",
      "Animation    7.914516\n",
      "Biography    7.862338\n",
      "Comedy       7.822436\n",
      "Crime        7.916935\n",
      "Drama        7.902518\n",
      "Horror       7.806897\n",
      "Mystery      7.975000\n",
      "Name: star_rating, dtype: float64\n"
     ]
    }
   ],
   "source": [
    "# Answer:\n",
    "# This time, we're switching the order we do things. We'll group the movies\n",
    "# by genre and then we'll calculate the star rating mean\n",
    "calc_avg_star = movies.groupby('genre')['star_rating'].mean()\n",
    "\n",
    "# We'll just use movies_filter from before since that will filter out movies\n",
    "# that don't meet our condition (at least ten movies in a genre)\n",
    "filtered_avg_star = calc_avg_star[movies_filter]\n",
    "print(filtered_avg_star)"
   ]
  },
  {
   "cell_type": "markdown",
   "metadata": {},
   "source": [
    "#### Option 4: aggregate by count and mean, then filter using the count"
   ]
  },
  {
   "cell_type": "code",
   "execution_count": 25,
   "metadata": {},
   "outputs": [
    {
     "name": "stdout",
     "output_type": "stream",
     "text": [
      "           count      mean\n",
      "genre                     \n",
      "Action       136  7.884559\n",
      "Adventure     75  7.933333\n",
      "Animation     62  7.914516\n",
      "Biography     77  7.862338\n",
      "Comedy       156  7.822436\n",
      "Crime        124  7.916935\n",
      "Drama        278  7.902518\n",
      "Horror        29  7.806897\n",
      "Mystery       16  7.975000\n"
     ]
    }
   ],
   "source": [
    "# Answer:\n",
    "# Group our data by genre, then use .agg for our star rating mean and our count\n",
    "count_mean = movies.groupby('genre')['star_rating'].agg(['count', 'mean'])\n",
    "\n",
    "# We filter this data frame by asking it to only include rows where the count \n",
    "# column is at least 10. \n",
    "final_answer = count_mean[count_mean['count'] >= 10]\n",
    "print(final_answer)"
   ]
  },
  {
   "cell_type": "markdown",
   "metadata": {},
   "source": [
    "## Bonus"
   ]
  },
  {
   "cell_type": "markdown",
   "metadata": {
    "collapsed": true
   },
   "source": [
    "#### Figure out something \"interesting\" using the actors data!"
   ]
  },
  {
   "cell_type": "code",
   "execution_count": null,
   "metadata": {},
   "outputs": [],
   "source": []
  }
 ],
 "metadata": {
  "kernelspec": {
   "display_name": "Python 3 (ipykernel)",
   "language": "python",
   "name": "python3"
  },
  "language_info": {
   "codemirror_mode": {
    "name": "ipython",
    "version": 3
   },
   "file_extension": ".py",
   "mimetype": "text/x-python",
   "name": "python",
   "nbconvert_exporter": "python",
   "pygments_lexer": "ipython3",
   "version": "3.11.5"
  }
 },
 "nbformat": 4,
 "nbformat_minor": 1
}
